{
 "cells": [
  {
   "cell_type": "code",
   "execution_count": 6,
   "id": "49978fb9-f16e-4d58-b816-7c36c1ca6e43",
   "metadata": {},
   "outputs": [],
   "source": [
    "import requests # to use http protocols\n",
    "from bs4 import BeautifulSoup # to parse the html code\n",
    "import json\n",
    "import re"
   ]
  },
  {
   "cell_type": "code",
   "execution_count": 18,
   "id": "72c29627-767e-4aea-9042-cbc2e79991f3",
   "metadata": {},
   "outputs": [],
   "source": [
    "# step#1\n",
    "# identifying the url or website\n",
    "url = 'https://www.thriftbooks.com/browse/?12529col#b.s=mostPopular-desc&b.p=1&b.pp=50&b.col&b.f.t%5B%5D=12529&b.list'"
   ]
  },
  {
   "cell_type": "code",
   "execution_count": 8,
   "id": "12c3d2f6-ffcb-4bea-8106-9364e0fc15db",
   "metadata": {},
   "outputs": [
    {
     "data": {
      "text/plain": [
       "<Response [200]>"
      ]
     },
     "execution_count": 8,
     "metadata": {},
     "output_type": "execute_result"
    }
   ],
   "source": [
    "content = requests.get(url)\n",
    "content"
   ]
  },
  {
   "cell_type": "code",
   "execution_count": 9,
   "id": "8b157bcd-1f0a-488a-af94-c3a59194e1bc",
   "metadata": {},
   "outputs": [],
   "source": [
    "# step#2a\n",
    "# parsing the content of the url\n",
    "content = requests.get(url).content\n",
    "soup = BeautifulSoup(content, 'html.parser')"
   ]
  },
  {
   "cell_type": "code",
   "execution_count": 17,
   "id": "f4cb8aeb-b07b-431f-826a-5ff3b86b3204",
   "metadata": {},
   "outputs": [],
   "source": [
    "# step#2b\n",
    "# Transforming and Filtering the data\n",
    "\n",
    "data = soup.find_all('script')\n",
    "string = data[12].string\n",
    "\n",
    "data = {}\n",
    "\n",
    "match = re.search(r'window\\.searchStoreV2\\s*=\\s*(\\{.*?\\});', string, re.DOTALL)\n",
    "if match:\n",
    "    works = match.group(1)\n",
    "    works_json = json.loads(works)\n",
    "\n",
    "    works = works_json.get('works')\n",
    "\n",
    "with open(r'thrift_books_data.csv', 'a') as f:\n",
    "    f.write(f'title,condition,buy_price\\n')\n",
    "\n",
    "for i in works:\n",
    "    data.update(i)\n",
    "    title = data['title']\n",
    "    condition = data['buyNowCondition']   \n",
    "    buy_price = data['buyNowPrice']\n",
    "\n",
    "    with open(r'thrift_books_data.csv', 'a') as f:\n",
    "        f.write(f'{title},{condition},{buy_price}\\n')\n",
    "    "
   ]
  },
  {
   "cell_type": "code",
   "execution_count": null,
   "id": "aff64316-c22f-4b6f-a1ae-3b408022f91e",
   "metadata": {},
   "outputs": [],
   "source": []
  }
 ],
 "metadata": {
  "kernelspec": {
   "display_name": "Python 3 (ipykernel)",
   "language": "python",
   "name": "python3"
  },
  "language_info": {
   "codemirror_mode": {
    "name": "ipython",
    "version": 3
   },
   "file_extension": ".py",
   "mimetype": "text/x-python",
   "name": "python",
   "nbconvert_exporter": "python",
   "pygments_lexer": "ipython3",
   "version": "3.12.7"
  }
 },
 "nbformat": 4,
 "nbformat_minor": 5
}
