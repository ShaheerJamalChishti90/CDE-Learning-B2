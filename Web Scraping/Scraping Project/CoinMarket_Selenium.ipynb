{
 "cells": [
  {
   "cell_type": "code",
   "execution_count": 16,
   "metadata": {},
   "outputs": [],
   "source": [
    "from selenium import webdriver\n",
    "from selenium.webdriver.chrome.options import Options\n",
    "from selenium.webdriver.common.by import By\n",
    "# services\n",
    "options = Options()\n",
    "# options.add_argument(\"--headless\")\n",
    "\n",
    "driver = webdriver.Chrome(options=options)\n",
    "driver.get('https://coinmarketcap.com/')"
   ]
  },
  {
   "cell_type": "code",
   "execution_count": 17,
   "metadata": {},
   "outputs": [
    {
     "data": {
      "text/plain": [
       "<selenium.webdriver.remote.webelement.WebElement (session=\"71f1f35a07af74a49b45d666dd1026da\", element=\"f.B177E6F05251BAD706416056B26EB542.d.E9DB762B6AD4FDCC1EFA79BAE1D64BEF.e.93\")>"
      ]
     },
     "execution_count": 17,
     "metadata": {},
     "output_type": "execute_result"
    }
   ],
   "source": [
    "table = driver.find_element(By.CLASS_NAME,'cmc-table')\n",
    "table"
   ]
  },
  {
   "cell_type": "code",
   "execution_count": 18,
   "metadata": {},
   "outputs": [
    {
     "data": {
      "text/plain": [
       "[<selenium.webdriver.remote.webelement.WebElement (session=\"71f1f35a07af74a49b45d666dd1026da\", element=\"f.B177E6F05251BAD706416056B26EB542.d.E9DB762B6AD4FDCC1EFA79BAE1D64BEF.e.94\")>,\n",
       " <selenium.webdriver.remote.webelement.WebElement (session=\"71f1f35a07af74a49b45d666dd1026da\", element=\"f.B177E6F05251BAD706416056B26EB542.d.E9DB762B6AD4FDCC1EFA79BAE1D64BEF.e.95\")>,\n",
       " <selenium.webdriver.remote.webelement.WebElement (session=\"71f1f35a07af74a49b45d666dd1026da\", element=\"f.B177E6F05251BAD706416056B26EB542.d.E9DB762B6AD4FDCC1EFA79BAE1D64BEF.e.96\")>,\n",
       " <selenium.webdriver.remote.webelement.WebElement (session=\"71f1f35a07af74a49b45d666dd1026da\", element=\"f.B177E6F05251BAD706416056B26EB542.d.E9DB762B6AD4FDCC1EFA79BAE1D64BEF.e.97\")>,\n",
       " <selenium.webdriver.remote.webelement.WebElement (session=\"71f1f35a07af74a49b45d666dd1026da\", element=\"f.B177E6F05251BAD706416056B26EB542.d.E9DB762B6AD4FDCC1EFA79BAE1D64BEF.e.98\")>,\n",
       " <selenium.webdriver.remote.webelement.WebElement (session=\"71f1f35a07af74a49b45d666dd1026da\", element=\"f.B177E6F05251BAD706416056B26EB542.d.E9DB762B6AD4FDCC1EFA79BAE1D64BEF.e.99\")>,\n",
       " <selenium.webdriver.remote.webelement.WebElement (session=\"71f1f35a07af74a49b45d666dd1026da\", element=\"f.B177E6F05251BAD706416056B26EB542.d.E9DB762B6AD4FDCC1EFA79BAE1D64BEF.e.100\")>,\n",
       " <selenium.webdriver.remote.webelement.WebElement (session=\"71f1f35a07af74a49b45d666dd1026da\", element=\"f.B177E6F05251BAD706416056B26EB542.d.E9DB762B6AD4FDCC1EFA79BAE1D64BEF.e.101\")>,\n",
       " <selenium.webdriver.remote.webelement.WebElement (session=\"71f1f35a07af74a49b45d666dd1026da\", element=\"f.B177E6F05251BAD706416056B26EB542.d.E9DB762B6AD4FDCC1EFA79BAE1D64BEF.e.102\")>,\n",
       " <selenium.webdriver.remote.webelement.WebElement (session=\"71f1f35a07af74a49b45d666dd1026da\", element=\"f.B177E6F05251BAD706416056B26EB542.d.E9DB762B6AD4FDCC1EFA79BAE1D64BEF.e.103\")>,\n",
       " <selenium.webdriver.remote.webelement.WebElement (session=\"71f1f35a07af74a49b45d666dd1026da\", element=\"f.B177E6F05251BAD706416056B26EB542.d.E9DB762B6AD4FDCC1EFA79BAE1D64BEF.e.104\")>,\n",
       " <selenium.webdriver.remote.webelement.WebElement (session=\"71f1f35a07af74a49b45d666dd1026da\", element=\"f.B177E6F05251BAD706416056B26EB542.d.E9DB762B6AD4FDCC1EFA79BAE1D64BEF.e.105\")>,\n",
       " <selenium.webdriver.remote.webelement.WebElement (session=\"71f1f35a07af74a49b45d666dd1026da\", element=\"f.B177E6F05251BAD706416056B26EB542.d.E9DB762B6AD4FDCC1EFA79BAE1D64BEF.e.106\")>,\n",
       " <selenium.webdriver.remote.webelement.WebElement (session=\"71f1f35a07af74a49b45d666dd1026da\", element=\"f.B177E6F05251BAD706416056B26EB542.d.E9DB762B6AD4FDCC1EFA79BAE1D64BEF.e.107\")>,\n",
       " <selenium.webdriver.remote.webelement.WebElement (session=\"71f1f35a07af74a49b45d666dd1026da\", element=\"f.B177E6F05251BAD706416056B26EB542.d.E9DB762B6AD4FDCC1EFA79BAE1D64BEF.e.108\")>,\n",
       " <selenium.webdriver.remote.webelement.WebElement (session=\"71f1f35a07af74a49b45d666dd1026da\", element=\"f.B177E6F05251BAD706416056B26EB542.d.E9DB762B6AD4FDCC1EFA79BAE1D64BEF.e.109\")>,\n",
       " <selenium.webdriver.remote.webelement.WebElement (session=\"71f1f35a07af74a49b45d666dd1026da\", element=\"f.B177E6F05251BAD706416056B26EB542.d.E9DB762B6AD4FDCC1EFA79BAE1D64BEF.e.110\")>,\n",
       " <selenium.webdriver.remote.webelement.WebElement (session=\"71f1f35a07af74a49b45d666dd1026da\", element=\"f.B177E6F05251BAD706416056B26EB542.d.E9DB762B6AD4FDCC1EFA79BAE1D64BEF.e.111\")>,\n",
       " <selenium.webdriver.remote.webelement.WebElement (session=\"71f1f35a07af74a49b45d666dd1026da\", element=\"f.B177E6F05251BAD706416056B26EB542.d.E9DB762B6AD4FDCC1EFA79BAE1D64BEF.e.112\")>,\n",
       " <selenium.webdriver.remote.webelement.WebElement (session=\"71f1f35a07af74a49b45d666dd1026da\", element=\"f.B177E6F05251BAD706416056B26EB542.d.E9DB762B6AD4FDCC1EFA79BAE1D64BEF.e.113\")>,\n",
       " <selenium.webdriver.remote.webelement.WebElement (session=\"71f1f35a07af74a49b45d666dd1026da\", element=\"f.B177E6F05251BAD706416056B26EB542.d.E9DB762B6AD4FDCC1EFA79BAE1D64BEF.e.114\")>,\n",
       " <selenium.webdriver.remote.webelement.WebElement (session=\"71f1f35a07af74a49b45d666dd1026da\", element=\"f.B177E6F05251BAD706416056B26EB542.d.E9DB762B6AD4FDCC1EFA79BAE1D64BEF.e.115\")>,\n",
       " <selenium.webdriver.remote.webelement.WebElement (session=\"71f1f35a07af74a49b45d666dd1026da\", element=\"f.B177E6F05251BAD706416056B26EB542.d.E9DB762B6AD4FDCC1EFA79BAE1D64BEF.e.116\")>,\n",
       " <selenium.webdriver.remote.webelement.WebElement (session=\"71f1f35a07af74a49b45d666dd1026da\", element=\"f.B177E6F05251BAD706416056B26EB542.d.E9DB762B6AD4FDCC1EFA79BAE1D64BEF.e.117\")>,\n",
       " <selenium.webdriver.remote.webelement.WebElement (session=\"71f1f35a07af74a49b45d666dd1026da\", element=\"f.B177E6F05251BAD706416056B26EB542.d.E9DB762B6AD4FDCC1EFA79BAE1D64BEF.e.118\")>,\n",
       " <selenium.webdriver.remote.webelement.WebElement (session=\"71f1f35a07af74a49b45d666dd1026da\", element=\"f.B177E6F05251BAD706416056B26EB542.d.E9DB762B6AD4FDCC1EFA79BAE1D64BEF.e.119\")>,\n",
       " <selenium.webdriver.remote.webelement.WebElement (session=\"71f1f35a07af74a49b45d666dd1026da\", element=\"f.B177E6F05251BAD706416056B26EB542.d.E9DB762B6AD4FDCC1EFA79BAE1D64BEF.e.120\")>,\n",
       " <selenium.webdriver.remote.webelement.WebElement (session=\"71f1f35a07af74a49b45d666dd1026da\", element=\"f.B177E6F05251BAD706416056B26EB542.d.E9DB762B6AD4FDCC1EFA79BAE1D64BEF.e.121\")>,\n",
       " <selenium.webdriver.remote.webelement.WebElement (session=\"71f1f35a07af74a49b45d666dd1026da\", element=\"f.B177E6F05251BAD706416056B26EB542.d.E9DB762B6AD4FDCC1EFA79BAE1D64BEF.e.122\")>,\n",
       " <selenium.webdriver.remote.webelement.WebElement (session=\"71f1f35a07af74a49b45d666dd1026da\", element=\"f.B177E6F05251BAD706416056B26EB542.d.E9DB762B6AD4FDCC1EFA79BAE1D64BEF.e.123\")>,\n",
       " <selenium.webdriver.remote.webelement.WebElement (session=\"71f1f35a07af74a49b45d666dd1026da\", element=\"f.B177E6F05251BAD706416056B26EB542.d.E9DB762B6AD4FDCC1EFA79BAE1D64BEF.e.124\")>,\n",
       " <selenium.webdriver.remote.webelement.WebElement (session=\"71f1f35a07af74a49b45d666dd1026da\", element=\"f.B177E6F05251BAD706416056B26EB542.d.E9DB762B6AD4FDCC1EFA79BAE1D64BEF.e.125\")>,\n",
       " <selenium.webdriver.remote.webelement.WebElement (session=\"71f1f35a07af74a49b45d666dd1026da\", element=\"f.B177E6F05251BAD706416056B26EB542.d.E9DB762B6AD4FDCC1EFA79BAE1D64BEF.e.126\")>,\n",
       " <selenium.webdriver.remote.webelement.WebElement (session=\"71f1f35a07af74a49b45d666dd1026da\", element=\"f.B177E6F05251BAD706416056B26EB542.d.E9DB762B6AD4FDCC1EFA79BAE1D64BEF.e.127\")>,\n",
       " <selenium.webdriver.remote.webelement.WebElement (session=\"71f1f35a07af74a49b45d666dd1026da\", element=\"f.B177E6F05251BAD706416056B26EB542.d.E9DB762B6AD4FDCC1EFA79BAE1D64BEF.e.128\")>,\n",
       " <selenium.webdriver.remote.webelement.WebElement (session=\"71f1f35a07af74a49b45d666dd1026da\", element=\"f.B177E6F05251BAD706416056B26EB542.d.E9DB762B6AD4FDCC1EFA79BAE1D64BEF.e.129\")>,\n",
       " <selenium.webdriver.remote.webelement.WebElement (session=\"71f1f35a07af74a49b45d666dd1026da\", element=\"f.B177E6F05251BAD706416056B26EB542.d.E9DB762B6AD4FDCC1EFA79BAE1D64BEF.e.130\")>,\n",
       " <selenium.webdriver.remote.webelement.WebElement (session=\"71f1f35a07af74a49b45d666dd1026da\", element=\"f.B177E6F05251BAD706416056B26EB542.d.E9DB762B6AD4FDCC1EFA79BAE1D64BEF.e.131\")>,\n",
       " <selenium.webdriver.remote.webelement.WebElement (session=\"71f1f35a07af74a49b45d666dd1026da\", element=\"f.B177E6F05251BAD706416056B26EB542.d.E9DB762B6AD4FDCC1EFA79BAE1D64BEF.e.132\")>,\n",
       " <selenium.webdriver.remote.webelement.WebElement (session=\"71f1f35a07af74a49b45d666dd1026da\", element=\"f.B177E6F05251BAD706416056B26EB542.d.E9DB762B6AD4FDCC1EFA79BAE1D64BEF.e.133\")>,\n",
       " <selenium.webdriver.remote.webelement.WebElement (session=\"71f1f35a07af74a49b45d666dd1026da\", element=\"f.B177E6F05251BAD706416056B26EB542.d.E9DB762B6AD4FDCC1EFA79BAE1D64BEF.e.134\")>,\n",
       " <selenium.webdriver.remote.webelement.WebElement (session=\"71f1f35a07af74a49b45d666dd1026da\", element=\"f.B177E6F05251BAD706416056B26EB542.d.E9DB762B6AD4FDCC1EFA79BAE1D64BEF.e.135\")>,\n",
       " <selenium.webdriver.remote.webelement.WebElement (session=\"71f1f35a07af74a49b45d666dd1026da\", element=\"f.B177E6F05251BAD706416056B26EB542.d.E9DB762B6AD4FDCC1EFA79BAE1D64BEF.e.136\")>,\n",
       " <selenium.webdriver.remote.webelement.WebElement (session=\"71f1f35a07af74a49b45d666dd1026da\", element=\"f.B177E6F05251BAD706416056B26EB542.d.E9DB762B6AD4FDCC1EFA79BAE1D64BEF.e.137\")>,\n",
       " <selenium.webdriver.remote.webelement.WebElement (session=\"71f1f35a07af74a49b45d666dd1026da\", element=\"f.B177E6F05251BAD706416056B26EB542.d.E9DB762B6AD4FDCC1EFA79BAE1D64BEF.e.138\")>,\n",
       " <selenium.webdriver.remote.webelement.WebElement (session=\"71f1f35a07af74a49b45d666dd1026da\", element=\"f.B177E6F05251BAD706416056B26EB542.d.E9DB762B6AD4FDCC1EFA79BAE1D64BEF.e.139\")>,\n",
       " <selenium.webdriver.remote.webelement.WebElement (session=\"71f1f35a07af74a49b45d666dd1026da\", element=\"f.B177E6F05251BAD706416056B26EB542.d.E9DB762B6AD4FDCC1EFA79BAE1D64BEF.e.140\")>,\n",
       " <selenium.webdriver.remote.webelement.WebElement (session=\"71f1f35a07af74a49b45d666dd1026da\", element=\"f.B177E6F05251BAD706416056B26EB542.d.E9DB762B6AD4FDCC1EFA79BAE1D64BEF.e.141\")>,\n",
       " <selenium.webdriver.remote.webelement.WebElement (session=\"71f1f35a07af74a49b45d666dd1026da\", element=\"f.B177E6F05251BAD706416056B26EB542.d.E9DB762B6AD4FDCC1EFA79BAE1D64BEF.e.142\")>,\n",
       " <selenium.webdriver.remote.webelement.WebElement (session=\"71f1f35a07af74a49b45d666dd1026da\", element=\"f.B177E6F05251BAD706416056B26EB542.d.E9DB762B6AD4FDCC1EFA79BAE1D64BEF.e.143\")>,\n",
       " <selenium.webdriver.remote.webelement.WebElement (session=\"71f1f35a07af74a49b45d666dd1026da\", element=\"f.B177E6F05251BAD706416056B26EB542.d.E9DB762B6AD4FDCC1EFA79BAE1D64BEF.e.144\")>,\n",
       " <selenium.webdriver.remote.webelement.WebElement (session=\"71f1f35a07af74a49b45d666dd1026da\", element=\"f.B177E6F05251BAD706416056B26EB542.d.E9DB762B6AD4FDCC1EFA79BAE1D64BEF.e.145\")>,\n",
       " <selenium.webdriver.remote.webelement.WebElement (session=\"71f1f35a07af74a49b45d666dd1026da\", element=\"f.B177E6F05251BAD706416056B26EB542.d.E9DB762B6AD4FDCC1EFA79BAE1D64BEF.e.146\")>,\n",
       " <selenium.webdriver.remote.webelement.WebElement (session=\"71f1f35a07af74a49b45d666dd1026da\", element=\"f.B177E6F05251BAD706416056B26EB542.d.E9DB762B6AD4FDCC1EFA79BAE1D64BEF.e.147\")>,\n",
       " <selenium.webdriver.remote.webelement.WebElement (session=\"71f1f35a07af74a49b45d666dd1026da\", element=\"f.B177E6F05251BAD706416056B26EB542.d.E9DB762B6AD4FDCC1EFA79BAE1D64BEF.e.148\")>,\n",
       " <selenium.webdriver.remote.webelement.WebElement (session=\"71f1f35a07af74a49b45d666dd1026da\", element=\"f.B177E6F05251BAD706416056B26EB542.d.E9DB762B6AD4FDCC1EFA79BAE1D64BEF.e.149\")>,\n",
       " <selenium.webdriver.remote.webelement.WebElement (session=\"71f1f35a07af74a49b45d666dd1026da\", element=\"f.B177E6F05251BAD706416056B26EB542.d.E9DB762B6AD4FDCC1EFA79BAE1D64BEF.e.150\")>,\n",
       " <selenium.webdriver.remote.webelement.WebElement (session=\"71f1f35a07af74a49b45d666dd1026da\", element=\"f.B177E6F05251BAD706416056B26EB542.d.E9DB762B6AD4FDCC1EFA79BAE1D64BEF.e.151\")>,\n",
       " <selenium.webdriver.remote.webelement.WebElement (session=\"71f1f35a07af74a49b45d666dd1026da\", element=\"f.B177E6F05251BAD706416056B26EB542.d.E9DB762B6AD4FDCC1EFA79BAE1D64BEF.e.152\")>,\n",
       " <selenium.webdriver.remote.webelement.WebElement (session=\"71f1f35a07af74a49b45d666dd1026da\", element=\"f.B177E6F05251BAD706416056B26EB542.d.E9DB762B6AD4FDCC1EFA79BAE1D64BEF.e.153\")>,\n",
       " <selenium.webdriver.remote.webelement.WebElement (session=\"71f1f35a07af74a49b45d666dd1026da\", element=\"f.B177E6F05251BAD706416056B26EB542.d.E9DB762B6AD4FDCC1EFA79BAE1D64BEF.e.154\")>,\n",
       " <selenium.webdriver.remote.webelement.WebElement (session=\"71f1f35a07af74a49b45d666dd1026da\", element=\"f.B177E6F05251BAD706416056B26EB542.d.E9DB762B6AD4FDCC1EFA79BAE1D64BEF.e.155\")>,\n",
       " <selenium.webdriver.remote.webelement.WebElement (session=\"71f1f35a07af74a49b45d666dd1026da\", element=\"f.B177E6F05251BAD706416056B26EB542.d.E9DB762B6AD4FDCC1EFA79BAE1D64BEF.e.156\")>,\n",
       " <selenium.webdriver.remote.webelement.WebElement (session=\"71f1f35a07af74a49b45d666dd1026da\", element=\"f.B177E6F05251BAD706416056B26EB542.d.E9DB762B6AD4FDCC1EFA79BAE1D64BEF.e.157\")>,\n",
       " <selenium.webdriver.remote.webelement.WebElement (session=\"71f1f35a07af74a49b45d666dd1026da\", element=\"f.B177E6F05251BAD706416056B26EB542.d.E9DB762B6AD4FDCC1EFA79BAE1D64BEF.e.158\")>,\n",
       " <selenium.webdriver.remote.webelement.WebElement (session=\"71f1f35a07af74a49b45d666dd1026da\", element=\"f.B177E6F05251BAD706416056B26EB542.d.E9DB762B6AD4FDCC1EFA79BAE1D64BEF.e.159\")>,\n",
       " <selenium.webdriver.remote.webelement.WebElement (session=\"71f1f35a07af74a49b45d666dd1026da\", element=\"f.B177E6F05251BAD706416056B26EB542.d.E9DB762B6AD4FDCC1EFA79BAE1D64BEF.e.160\")>,\n",
       " <selenium.webdriver.remote.webelement.WebElement (session=\"71f1f35a07af74a49b45d666dd1026da\", element=\"f.B177E6F05251BAD706416056B26EB542.d.E9DB762B6AD4FDCC1EFA79BAE1D64BEF.e.161\")>,\n",
       " <selenium.webdriver.remote.webelement.WebElement (session=\"71f1f35a07af74a49b45d666dd1026da\", element=\"f.B177E6F05251BAD706416056B26EB542.d.E9DB762B6AD4FDCC1EFA79BAE1D64BEF.e.162\")>,\n",
       " <selenium.webdriver.remote.webelement.WebElement (session=\"71f1f35a07af74a49b45d666dd1026da\", element=\"f.B177E6F05251BAD706416056B26EB542.d.E9DB762B6AD4FDCC1EFA79BAE1D64BEF.e.163\")>,\n",
       " <selenium.webdriver.remote.webelement.WebElement (session=\"71f1f35a07af74a49b45d666dd1026da\", element=\"f.B177E6F05251BAD706416056B26EB542.d.E9DB762B6AD4FDCC1EFA79BAE1D64BEF.e.164\")>,\n",
       " <selenium.webdriver.remote.webelement.WebElement (session=\"71f1f35a07af74a49b45d666dd1026da\", element=\"f.B177E6F05251BAD706416056B26EB542.d.E9DB762B6AD4FDCC1EFA79BAE1D64BEF.e.165\")>,\n",
       " <selenium.webdriver.remote.webelement.WebElement (session=\"71f1f35a07af74a49b45d666dd1026da\", element=\"f.B177E6F05251BAD706416056B26EB542.d.E9DB762B6AD4FDCC1EFA79BAE1D64BEF.e.166\")>,\n",
       " <selenium.webdriver.remote.webelement.WebElement (session=\"71f1f35a07af74a49b45d666dd1026da\", element=\"f.B177E6F05251BAD706416056B26EB542.d.E9DB762B6AD4FDCC1EFA79BAE1D64BEF.e.167\")>,\n",
       " <selenium.webdriver.remote.webelement.WebElement (session=\"71f1f35a07af74a49b45d666dd1026da\", element=\"f.B177E6F05251BAD706416056B26EB542.d.E9DB762B6AD4FDCC1EFA79BAE1D64BEF.e.168\")>,\n",
       " <selenium.webdriver.remote.webelement.WebElement (session=\"71f1f35a07af74a49b45d666dd1026da\", element=\"f.B177E6F05251BAD706416056B26EB542.d.E9DB762B6AD4FDCC1EFA79BAE1D64BEF.e.169\")>,\n",
       " <selenium.webdriver.remote.webelement.WebElement (session=\"71f1f35a07af74a49b45d666dd1026da\", element=\"f.B177E6F05251BAD706416056B26EB542.d.E9DB762B6AD4FDCC1EFA79BAE1D64BEF.e.170\")>,\n",
       " <selenium.webdriver.remote.webelement.WebElement (session=\"71f1f35a07af74a49b45d666dd1026da\", element=\"f.B177E6F05251BAD706416056B26EB542.d.E9DB762B6AD4FDCC1EFA79BAE1D64BEF.e.171\")>,\n",
       " <selenium.webdriver.remote.webelement.WebElement (session=\"71f1f35a07af74a49b45d666dd1026da\", element=\"f.B177E6F05251BAD706416056B26EB542.d.E9DB762B6AD4FDCC1EFA79BAE1D64BEF.e.172\")>,\n",
       " <selenium.webdriver.remote.webelement.WebElement (session=\"71f1f35a07af74a49b45d666dd1026da\", element=\"f.B177E6F05251BAD706416056B26EB542.d.E9DB762B6AD4FDCC1EFA79BAE1D64BEF.e.173\")>,\n",
       " <selenium.webdriver.remote.webelement.WebElement (session=\"71f1f35a07af74a49b45d666dd1026da\", element=\"f.B177E6F05251BAD706416056B26EB542.d.E9DB762B6AD4FDCC1EFA79BAE1D64BEF.e.174\")>,\n",
       " <selenium.webdriver.remote.webelement.WebElement (session=\"71f1f35a07af74a49b45d666dd1026da\", element=\"f.B177E6F05251BAD706416056B26EB542.d.E9DB762B6AD4FDCC1EFA79BAE1D64BEF.e.175\")>,\n",
       " <selenium.webdriver.remote.webelement.WebElement (session=\"71f1f35a07af74a49b45d666dd1026da\", element=\"f.B177E6F05251BAD706416056B26EB542.d.E9DB762B6AD4FDCC1EFA79BAE1D64BEF.e.176\")>,\n",
       " <selenium.webdriver.remote.webelement.WebElement (session=\"71f1f35a07af74a49b45d666dd1026da\", element=\"f.B177E6F05251BAD706416056B26EB542.d.E9DB762B6AD4FDCC1EFA79BAE1D64BEF.e.177\")>,\n",
       " <selenium.webdriver.remote.webelement.WebElement (session=\"71f1f35a07af74a49b45d666dd1026da\", element=\"f.B177E6F05251BAD706416056B26EB542.d.E9DB762B6AD4FDCC1EFA79BAE1D64BEF.e.178\")>,\n",
       " <selenium.webdriver.remote.webelement.WebElement (session=\"71f1f35a07af74a49b45d666dd1026da\", element=\"f.B177E6F05251BAD706416056B26EB542.d.E9DB762B6AD4FDCC1EFA79BAE1D64BEF.e.179\")>,\n",
       " <selenium.webdriver.remote.webelement.WebElement (session=\"71f1f35a07af74a49b45d666dd1026da\", element=\"f.B177E6F05251BAD706416056B26EB542.d.E9DB762B6AD4FDCC1EFA79BAE1D64BEF.e.180\")>,\n",
       " <selenium.webdriver.remote.webelement.WebElement (session=\"71f1f35a07af74a49b45d666dd1026da\", element=\"f.B177E6F05251BAD706416056B26EB542.d.E9DB762B6AD4FDCC1EFA79BAE1D64BEF.e.181\")>,\n",
       " <selenium.webdriver.remote.webelement.WebElement (session=\"71f1f35a07af74a49b45d666dd1026da\", element=\"f.B177E6F05251BAD706416056B26EB542.d.E9DB762B6AD4FDCC1EFA79BAE1D64BEF.e.182\")>,\n",
       " <selenium.webdriver.remote.webelement.WebElement (session=\"71f1f35a07af74a49b45d666dd1026da\", element=\"f.B177E6F05251BAD706416056B26EB542.d.E9DB762B6AD4FDCC1EFA79BAE1D64BEF.e.183\")>,\n",
       " <selenium.webdriver.remote.webelement.WebElement (session=\"71f1f35a07af74a49b45d666dd1026da\", element=\"f.B177E6F05251BAD706416056B26EB542.d.E9DB762B6AD4FDCC1EFA79BAE1D64BEF.e.184\")>,\n",
       " <selenium.webdriver.remote.webelement.WebElement (session=\"71f1f35a07af74a49b45d666dd1026da\", element=\"f.B177E6F05251BAD706416056B26EB542.d.E9DB762B6AD4FDCC1EFA79BAE1D64BEF.e.185\")>,\n",
       " <selenium.webdriver.remote.webelement.WebElement (session=\"71f1f35a07af74a49b45d666dd1026da\", element=\"f.B177E6F05251BAD706416056B26EB542.d.E9DB762B6AD4FDCC1EFA79BAE1D64BEF.e.186\")>,\n",
       " <selenium.webdriver.remote.webelement.WebElement (session=\"71f1f35a07af74a49b45d666dd1026da\", element=\"f.B177E6F05251BAD706416056B26EB542.d.E9DB762B6AD4FDCC1EFA79BAE1D64BEF.e.187\")>,\n",
       " <selenium.webdriver.remote.webelement.WebElement (session=\"71f1f35a07af74a49b45d666dd1026da\", element=\"f.B177E6F05251BAD706416056B26EB542.d.E9DB762B6AD4FDCC1EFA79BAE1D64BEF.e.188\")>,\n",
       " <selenium.webdriver.remote.webelement.WebElement (session=\"71f1f35a07af74a49b45d666dd1026da\", element=\"f.B177E6F05251BAD706416056B26EB542.d.E9DB762B6AD4FDCC1EFA79BAE1D64BEF.e.189\")>,\n",
       " <selenium.webdriver.remote.webelement.WebElement (session=\"71f1f35a07af74a49b45d666dd1026da\", element=\"f.B177E6F05251BAD706416056B26EB542.d.E9DB762B6AD4FDCC1EFA79BAE1D64BEF.e.190\")>,\n",
       " <selenium.webdriver.remote.webelement.WebElement (session=\"71f1f35a07af74a49b45d666dd1026da\", element=\"f.B177E6F05251BAD706416056B26EB542.d.E9DB762B6AD4FDCC1EFA79BAE1D64BEF.e.191\")>,\n",
       " <selenium.webdriver.remote.webelement.WebElement (session=\"71f1f35a07af74a49b45d666dd1026da\", element=\"f.B177E6F05251BAD706416056B26EB542.d.E9DB762B6AD4FDCC1EFA79BAE1D64BEF.e.192\")>,\n",
       " <selenium.webdriver.remote.webelement.WebElement (session=\"71f1f35a07af74a49b45d666dd1026da\", element=\"f.B177E6F05251BAD706416056B26EB542.d.E9DB762B6AD4FDCC1EFA79BAE1D64BEF.e.193\")>,\n",
       " <selenium.webdriver.remote.webelement.WebElement (session=\"71f1f35a07af74a49b45d666dd1026da\", element=\"f.B177E6F05251BAD706416056B26EB542.d.E9DB762B6AD4FDCC1EFA79BAE1D64BEF.e.194\")>]"
      ]
     },
     "execution_count": 18,
     "metadata": {},
     "output_type": "execute_result"
    }
   ],
   "source": [
    "rows = table.find_elements(By.TAG_NAME,'tr')\n",
    "rows"
   ]
  },
  {
   "cell_type": "code",
   "execution_count": 23,
   "metadata": {},
   "outputs": [
    {
     "name": "stdout",
     "output_type": "stream",
     "text": [
      "1 Bitcoin\n",
      "BTC\n",
      "Buy $95,504.00 0.08% 0.97% 1.65% $1,896,680,027,836 $16,057,603,880\n",
      "168.13K BTC\n",
      "2 Ethereum\n",
      "ETH\n",
      "Buy $1,830.45 0.07% 0.23% 1.98% $220,995,161,306 $9,086,067,960\n",
      "4.96M ETH\n",
      "3 Tether\n",
      "USDT\n",
      "Buy $1.00 0.01% 0.04% 0.03% $149,359,776,819 $38,154,501,363\n",
      "38.15B USDT\n",
      "4 XRP\n",
      "XRP\n",
      "Buy $2.19 0.24% 0.81% 1.17% $128,340,244,098 $1,529,703,372\n",
      "697.31M XRP\n",
      "5 BNB\n",
      "BNB\n",
      "Buy $588.72 0.22% 1.74% 1.76% $82,945,806,967 $1,283,291,658\n",
      "2.17M BNB\n",
      "6 Solana\n",
      "SOL\n",
      "Buy $146.83 0.28% 1.31% 1.49% $76,072,746,155 $1,567,376,878\n",
      "10.67M SOL\n",
      "7 USDC\n",
      "USDC\n",
      "Buy $1.00 0.01% 0.00% 0.00% $61,515,502,538 $5,412,184,695\n",
      "5.41B USDC\n",
      "8 Dogecoin\n",
      "DOGE\n",
      "Buy $0.1732 0.43% 3.18% 4.00% $25,831,051,257 $576,571,852\n",
      "3.32B DOGE\n",
      "9 Cardano\n",
      "ADA\n",
      "Buy $0.6893 0.06% 4.17% 0.97% $24,335,221,081 $787,439,581\n",
      "1.14B ADA\n",
      "10 TRON\n",
      "TRX\n",
      "Buy $0.2476 0.18% 0.45% 0.42% $23,507,716,285 $400,167,503\n",
      "1.61B TRX\n"
     ]
    }
   ],
   "source": [
    "# all_tds = ['', 'rank', 'name','price' .....]\n",
    "\n",
    "for row in rows[1:11]:\n",
    "    table_data = row.find_elements(By.TAG_NAME,'td')\n",
    "    rank = table_data[1].text\n",
    "    name = table_data[2].text\n",
    "    price = table_data[3].text\n",
    "    hour_change = table_data[4].text\n",
    "    day_change = table_data[5].text\n",
    "    seven_days_change = table_data[6].text\n",
    "    market_cap = table_data[7].text\n",
    "    volume = table_data[8].text\n",
    "    print(rank,name,price,hour_change,day_change,seven_days_change,market_cap,volume)\n",
    "    # print(table_data)\n",
    "\n",
    "    # break"
   ]
  },
  {
   "cell_type": "code",
   "execution_count": null,
   "metadata": {},
   "outputs": [],
   "source": []
  }
 ],
 "metadata": {
  "kernelspec": {
   "display_name": "Python 3",
   "language": "python",
   "name": "python3"
  },
  "language_info": {
   "codemirror_mode": {
    "name": "ipython",
    "version": 3
   },
   "file_extension": ".py",
   "mimetype": "text/x-python",
   "name": "python",
   "nbconvert_exporter": "python",
   "pygments_lexer": "ipython3",
   "version": "3.13.3"
  }
 },
 "nbformat": 4,
 "nbformat_minor": 2
}
