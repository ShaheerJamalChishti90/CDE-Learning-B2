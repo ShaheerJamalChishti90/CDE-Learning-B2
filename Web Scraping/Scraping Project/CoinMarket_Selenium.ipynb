{
 "cells": [
  {
   "cell_type": "code",
   "execution_count": null,
   "metadata": {},
   "outputs": [],
   "source": [
    "from selenium import webdriver\n",
    "from selenium.webdriver.chrome.options import Options\n",
    "from selenium.webdriver.common.by import By\n",
    "import time\n",
    "# services\n",
    "options = Options()\n",
    "# options.add_argument(\"--headless\")\n",
    "\n",
    "driver = webdriver.Chrome(options=options)\n",
    "driver.get('https://coinmarketcap.com/')"
   ]
  },
  {
   "cell_type": "code",
   "execution_count": 17,
   "metadata": {},
   "outputs": [
    {
     "data": {
      "text/plain": [
       "<selenium.webdriver.remote.webelement.WebElement (session=\"71f1f35a07af74a49b45d666dd1026da\", element=\"f.B177E6F05251BAD706416056B26EB542.d.E9DB762B6AD4FDCC1EFA79BAE1D64BEF.e.93\")>"
      ]
     },
     "execution_count": 17,
     "metadata": {},
     "output_type": "execute_result"
    }
   ],
   "source": [
    "table = driver.find_element(By.CLASS_NAME,'cmc-table')\n",
    "table"
   ]
  },
  {
   "cell_type": "code",
   "execution_count": null,
   "metadata": {},
   "outputs": [],
   "source": [
    "rows = table.find_elements(By.TAG_NAME,'tr')\n",
    "rows"
   ]
  },
  {
   "cell_type": "code",
   "execution_count": 23,
   "metadata": {},
   "outputs": [
    {
     "name": "stdout",
     "output_type": "stream",
     "text": [
      "1 Bitcoin\n",
      "BTC\n",
      "Buy $95,504.00 0.08% 0.97% 1.65% $1,896,680,027,836 $16,057,603,880\n",
      "168.13K BTC\n",
      "2 Ethereum\n",
      "ETH\n",
      "Buy $1,830.45 0.07% 0.23% 1.98% $220,995,161,306 $9,086,067,960\n",
      "4.96M ETH\n",
      "3 Tether\n",
      "USDT\n",
      "Buy $1.00 0.01% 0.04% 0.03% $149,359,776,819 $38,154,501,363\n",
      "38.15B USDT\n",
      "4 XRP\n",
      "XRP\n",
      "Buy $2.19 0.24% 0.81% 1.17% $128,340,244,098 $1,529,703,372\n",
      "697.31M XRP\n",
      "5 BNB\n",
      "BNB\n",
      "Buy $588.72 0.22% 1.74% 1.76% $82,945,806,967 $1,283,291,658\n",
      "2.17M BNB\n",
      "6 Solana\n",
      "SOL\n",
      "Buy $146.83 0.28% 1.31% 1.49% $76,072,746,155 $1,567,376,878\n",
      "10.67M SOL\n",
      "7 USDC\n",
      "USDC\n",
      "Buy $1.00 0.01% 0.00% 0.00% $61,515,502,538 $5,412,184,695\n",
      "5.41B USDC\n",
      "8 Dogecoin\n",
      "DOGE\n",
      "Buy $0.1732 0.43% 3.18% 4.00% $25,831,051,257 $576,571,852\n",
      "3.32B DOGE\n",
      "9 Cardano\n",
      "ADA\n",
      "Buy $0.6893 0.06% 4.17% 0.97% $24,335,221,081 $787,439,581\n",
      "1.14B ADA\n",
      "10 TRON\n",
      "TRX\n",
      "Buy $0.2476 0.18% 0.45% 0.42% $23,507,716,285 $400,167,503\n",
      "1.61B TRX\n"
     ]
    }
   ],
   "source": [
    "# all_tds = ['', 'rank', 'name','price' .....]\n",
    "\n",
    "for row in rows[1:11]:\n",
    "    table_data = row.find_elements(By.TAG_NAME,'td')\n",
    "    rank = table_data[1].text\n",
    "    name = table_data[2].text\n",
    "    price = table_data[3].text\n",
    "    hour_change = table_data[4].text\n",
    "    day_change = table_data[5].text\n",
    "    seven_days_change = table_data[6].text\n",
    "    market_cap = table_data[7].text\n",
    "    volume = table_data[8].text\n",
    "    print(rank,name,price,hour_change,day_change,seven_days_change,market_cap,volume)\n",
    "    # print(table_data)\n",
    "\n",
    "    # break"
   ]
  },
  {
   "cell_type": "code",
   "execution_count": null,
   "metadata": {},
   "outputs": [],
   "source": [
    "                                            # Complete Code\n",
    "from selenium import webdriver\n",
    "from selenium.webdriver.chrome.options import Options\n",
    "from bs4 import BeautifulSoup\n",
    "import time\n",
    "\n",
    "# Setup WebDriver\n",
    "options = Options()\n",
    "options.add_argument(\"--start-maximized\")  \n",
    "options.add_argument(\"--disable-gpu\")\n",
    "options.add_argument(\"--no-sandbox\")\n",
    "driver = webdriver.Chrome(options=options)\n",
    "\n",
    "url = 'https://coinmarketcap.com/'\n",
    "driver.get(url)\n",
    "time.sleep(3)  \n",
    "\n",
    "# Slowly scroll to the bottom of the page\n",
    "scroll_pause_time = 0.5\n",
    "scroll_step = 300  # pixels per scroll\n",
    "last_height = driver.execute_script(\"return document.body.scrollHeight\")\n",
    "\n",
    "while True:\n",
    "    for i in range(0, last_height, scroll_step):\n",
    "        driver.execute_script(f\"window.scrollTo(0, {i});\")\n",
    "        time.sleep(scroll_pause_time)\n",
    "    \n",
    "    new_height = driver.execute_script(\"return document.body.scrollHeight\")\n",
    "    if new_height == last_height:\n",
    "        break  \n",
    "    last_height = new_height\n",
    "\n",
    "print(\"✅ Finished scrolling\")\n",
    "\n",
    "soup = BeautifulSoup(driver.page_source, \"html.parser\")\n",
    "driver.quit()\n",
    "\n",
    "table = soup.find('table', {'class': 'cmc-table'})\n",
    "\n",
    "rows = table.find_all('tr')\n",
    "print(f\"✅ Found {len(rows)-1} rows (excluding header)\")\n",
    "\n",
    "crypto_data = []\n",
    "\n",
    "for row in rows[1:]: \n",
    "    cols = row.find_all('td')\n",
    "    if len(cols) >= 10:\n",
    "        rank = cols[1].text.strip()\n",
    "        name = cols[2].text.strip()\n",
    "        price = cols[3].text.strip()\n",
    "        one_hour_change = cols[4].text.strip()\n",
    "        twenty_four_hour_change = cols[5].text.strip()\n",
    "        seven_day_change = cols[6].text.strip()\n",
    "        market_cap = cols[7].text.strip()\n",
    "        hr_volume = cols[8].text.strip()\n",
    "        circulating_supply = cols[9].text.strip()\n",
    "\n",
    "        crypto_data.append([\n",
    "            rank, name, price, one_hour_change,\n",
    "            twenty_four_hour_change, seven_day_change,\n",
    "            market_cap, hr_volume, circulating_supply\n",
    "        ])\n",
    "\n",
    "for coin in crypto_data:\n",
    "    print(coin)\n"
   ]
  },
  {
   "cell_type": "code",
   "execution_count": null,
   "metadata": {},
   "outputs": [],
   "source": []
  },
  {
   "cell_type": "code",
   "execution_count": null,
   "metadata": {},
   "outputs": [],
   "source": []
  }
 ],
 "metadata": {
  "kernelspec": {
   "display_name": "Python 3",
   "language": "python",
   "name": "python3"
  },
  "language_info": {
   "codemirror_mode": {
    "name": "ipython",
    "version": 3
   },
   "file_extension": ".py",
   "mimetype": "text/x-python",
   "name": "python",
   "nbconvert_exporter": "python",
   "pygments_lexer": "ipython3",
   "version": "3.10.11"
  }
 },
 "nbformat": 4,
 "nbformat_minor": 2
}
