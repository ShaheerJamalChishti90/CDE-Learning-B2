{
 "cells": [
  {
   "cell_type": "code",
   "execution_count": 4,
   "metadata": {},
   "outputs": [],
   "source": [
    "from bs4 import BeautifulSoup\n",
    "import requests"
   ]
  },
  {
   "cell_type": "code",
   "execution_count": 5,
   "metadata": {},
   "outputs": [],
   "source": [
    "url = 'https://coinmarketcap.com/'\n",
    "request = requests.get(url)\n"
   ]
  },
  {
   "cell_type": "code",
   "execution_count": null,
   "metadata": {},
   "outputs": [],
   "source": [
    "soup = BeautifulSoup(request.content, 'html.parser') # urlib\n",
    "soup"
   ]
  },
  {
   "cell_type": "code",
   "execution_count": null,
   "metadata": {},
   "outputs": [],
   "source": [
    "table = soup.find('table',class_='cmc-table')\n",
    "print(table)"
   ]
  },
  {
   "cell_type": "code",
   "execution_count": null,
   "metadata": {},
   "outputs": [],
   "source": [
    "rows = table.find_all('tr')\n",
    "rows"
   ]
  },
  {
   "cell_type": "code",
   "execution_count": 16,
   "metadata": {},
   "outputs": [
    {
     "name": "stdout",
     "output_type": "stream",
     "text": [
      "1 BitcoinBTC $95,590.55 0.21% 0.83% 1.59% $1.9T$1,897,432,591,026 $15,593,805,367163.21K BTC\n",
      "2 EthereumETH $1,828.77 0.06% 0.29% 1.57% $220.72B$220,715,353,770 $9,052,055,8284.95M ETH\n",
      "3 TetherUSDT $1.00 0.01% 0.02% 0.04% $149.38B$149,379,861,972 $37,868,914,57237.86B USDT\n",
      "4 XRPXRP $2.18 0.28% 0.72% 1.49% $128.06B$128,059,185,916 $1,540,876,207703.94M XRP\n",
      "5 BNBBNB $590.67 0.00% 1.25% 1.76% $83.17B$83,172,828,274 $1,266,178,9372.14M BNB\n",
      "6 SolanaSOL $146.12 0.52% 1.57% 2.21% $75.7B$75,701,059,209 $1,544,102,99610.56M SOL\n",
      "7 USDCUSDC $0.9999 0.01% 0.00% 0.01% $61.51B$61,506,653,060 $5,341,693,0765.34B USDC\n",
      "8 DogecoinDOGE $0.1738 0.40% 2.65% 4.73% $25.93B$25,931,257,672 $561,578,9403.22B DOGE\n",
      "9 CardanoADA $0.6895 0.46% 3.40% 1.58% $24.34B$24,342,643,050 $922,307,2561.33B ADA\n",
      "10 TRONTRX $0.2481 0.40% 0.04% 0.25% $23.55B$23,553,214,393 $405,807,3761.63B TRX\n"
     ]
    }
   ],
   "source": [
    "# all_tds = ['', 'rank', 'name','price' .....]\n",
    "for row in rows[1:11]:\n",
    "    table_data = row.find_all('td')\n",
    "    # print(table_data)\n",
    "    rank  = table_data[1].text\n",
    "    name = table_data[2].text\n",
    "    price = table_data[3].text\n",
    "    hour_change = table_data[4].text\n",
    "    day_change = table_data[5].text\n",
    "    seven_days_change = table_data[6].text\n",
    "    market_cap = table_data[7].text\n",
    "    volume = table_data[8].text\n",
    "    print(rank,name,price,hour_change,day_change,seven_days_change,market_cap,volume)\n",
    "    # break"
   ]
  },
  {
   "cell_type": "code",
   "execution_count": null,
   "metadata": {},
   "outputs": [],
   "source": []
  }
 ],
 "metadata": {
  "kernelspec": {
   "display_name": "base",
   "language": "python",
   "name": "python3"
  },
  "language_info": {
   "codemirror_mode": {
    "name": "ipython",
    "version": 3
   },
   "file_extension": ".py",
   "mimetype": "text/x-python",
   "name": "python",
   "nbconvert_exporter": "python",
   "pygments_lexer": "ipython3",
   "version": "3.13.3"
  }
 },
 "nbformat": 4,
 "nbformat_minor": 2
}
